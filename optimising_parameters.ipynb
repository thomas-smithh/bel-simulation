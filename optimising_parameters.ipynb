{
 "cells": [
  {
   "cell_type": "code",
   "execution_count": 1,
   "metadata": {},
   "outputs": [],
   "source": [
    "import pandas as pd\n",
    "import numpy as np\n",
    "import matplotlib.pyplot as plt\n",
    "from scipy.stats import skewnorm\n",
    "from scipy.optimize import minimize_scalar\n",
    "from scipy.stats import skewnorm\n",
    "from bayes_opt import BayesianOptimization\n",
    "from simulation import Simulation\n",
    "from bayes_opt.logger import JSONLogger\n",
    "from bayes_opt.event import Events\n",
    "from hyperopt import fmin, tpe, Trials, space_eval, STATUS_OK, hp\n",
    "import random"
   ]
  },
  {
   "cell_type": "code",
   "execution_count": 2,
   "metadata": {},
   "outputs": [],
   "source": [
    "data = pd.read_csv('cluster_real_distributions.csv').drop(['Unnamed: 0', 'image', 'condition'], axis=1)\n",
    "write_path = \"outputs_7\""
   ]
  },
  {
   "cell_type": "code",
   "execution_count": 3,
   "metadata": {},
   "outputs": [],
   "source": [
    "def scaled_gaussian(x, mu, sigma):\n",
    "    max_val = 1 / (sigma * np.sqrt(2 * np.pi))\n",
    "    pdf_val = (1 / (sigma * np.sqrt(2 * np.pi))) * np.exp(-0.5 * ((x - mu) / sigma) ** 2)\n",
    "    y = pdf_val / max_val\n",
    "    return y\n",
    "\n",
    "class ScaledSkewNormal:\n",
    "\n",
    "    def __init__(self, a, mu, sigma):\n",
    "        neg_pdf = lambda x: -skewnorm.pdf(x, a, mu, sigma)\n",
    "        self.result = minimize_scalar(neg_pdf, bounds=(mu - 3*sigma, mu + 3*sigma), method='bounded')\n",
    "        self.pdf_max_value = skewnorm.pdf(self.result.x, a, mu, sigma)\n",
    "        self.a = a\n",
    "        self.mu = mu\n",
    "        self.sigma = sigma\n",
    "\n",
    "    def get_value(self, x):\n",
    "        pdf_val = skewnorm.pdf(x, self.a, self.mu, self.sigma)\n",
    "        return pdf_val / self.pdf_max_value\n",
    "\n",
    "def time_dist(x):\n",
    "    return (x / 20) + 1e-30"
   ]
  },
  {
   "cell_type": "code",
   "execution_count": 4,
   "metadata": {},
   "outputs": [],
   "source": [
    "def derive_target(\n",
    "    mean_separation: float,\n",
    "    volume: float,\n",
    "    sphericity: float,\n",
    "    n_cells: float,\n",
    "    max_time: float\n",
    ") -> float:\n",
    "    \"\"\"\n",
    "    Derive the value to be maximised from the results of the simulation.\n",
    "    \n",
    "    Inputs:\n",
    "        results: The results of the simulation.\n",
    "    \n",
    "    Returns:\n",
    "        The value to be maximised.\n",
    "    \"\"\"\n",
    "\n",
    "    skew_normal_volume = ScaledSkewNormal(5, -50, 500)\n",
    "    skew_normal_n_cells = ScaledSkewNormal(5, -80, 500)\n",
    "    skew_normal_sphericity = ScaledSkewNormal(-5, 1.05, 0.3)\n",
    "\n",
    "    mean_separation_optimisation_value = scaled_gaussian(mean_separation, mu=-0.2, sigma=0.3)\n",
    "    volume_optimisation_value = skew_normal_n_cells.get_value(volume)\n",
    "    sphericity_optimisation_value = skew_normal_sphericity.get_value(sphericity)\n",
    "    n_cells_optimisation_value = skew_normal_volume.get_value(n_cells)\n",
    "    time_optimisation_value = time_dist(max_time)\n",
    "\n",
    "    target_value = (\n",
    "        mean_separation_optimisation_value *\n",
    "        volume_optimisation_value *\n",
    "        sphericity_optimisation_value *\n",
    "        n_cells_optimisation_value *\n",
    "        time_optimisation_value\n",
    "    )\n",
    "\n",
    "    return target_value\n",
    "\n",
    "def target_function(\n",
    "    params: dict\n",
    ") -> float:\n",
    "    \"\"\"\n",
    "    \"\"\"\n",
    "\n",
    "    radius_scaling = random.uniform(0.5, 1.8)\n",
    "    simulation = Simulation(N_bodies=10)\n",
    "    try:\n",
    "        simulation.execute(\n",
    "            alpha=params['alpha'],\n",
    "            beta=params['beta'],\n",
    "            A_eq_star_scaling=params['A_eq_star_scaling'],\n",
    "            P_star=params['P_star'],\n",
    "            radius_scaling=radius_scaling,\n",
    "            max_reset_count=20,\n",
    "            # write_results=True,\n",
    "            # write_path=\"F:\\\\Bel_Simulation\\\\outputs_10\"\n",
    "        )\n",
    "        \n",
    "        results = simulation.results.iloc[-1]\n",
    "        target = -derive_target(\n",
    "            results['mean_separation'],\n",
    "            results['cluster_vol'],\n",
    "            results['sphericity'],\n",
    "            results['final_N_bodies'],\n",
    "            results['t']\n",
    "        )\n",
    "    except:\n",
    "        return 1\n",
    "\n",
    "    return {'loss': target, 'status': STATUS_OK}"
   ]
  },
  {
   "cell_type": "code",
   "execution_count": 5,
   "metadata": {},
   "outputs": [],
   "source": [
    "search_space = {\n",
    "    'alpha': hp.uniform('alpha', 0, 10),\n",
    "    'beta': hp.uniform('beta', 0, 1000),\n",
    "    'A_eq_star_scaling': hp.uniform('A_eq_star_scaling', 0, 1),\n",
    "    'P_star': hp.uniform('P_star', 0, 1000)\n",
    "}"
   ]
  },
  {
   "cell_type": "code",
   "execution_count": 6,
   "metadata": {},
   "outputs": [
    {
     "name": "stdout",
     "output_type": "stream",
     "text": [
      "  0%|          | 16843/100000000 [118:49:01<907930:24:18, 32.69s/trial, best loss: -0.8686722646412659]    "
     ]
    }
   ],
   "source": [
    "trials = Trials()\n",
    "\n",
    "algo = tpe.suggest\n",
    "max_evals = 100_000_000\n",
    "\n",
    "best = fmin(\n",
    "    fn=target_function,\n",
    "    space=search_space,\n",
    "    algo=algo,\n",
    "    max_evals=max_evals,\n",
    "    trials=trials,\n",
    "    verbose=True,\n",
    "    trials_save_file='trials_5.pkl'\n",
    ")"
   ]
  },
  {
   "cell_type": "code",
   "execution_count": null,
   "metadata": {},
   "outputs": [],
   "source": []
  }
 ],
 "metadata": {
  "kernelspec": {
   "display_name": "bel_simulation",
   "language": "python",
   "name": "python3"
  },
  "language_info": {
   "codemirror_mode": {
    "name": "ipython",
    "version": 3
   },
   "file_extension": ".py",
   "mimetype": "text/x-python",
   "name": "python",
   "nbconvert_exporter": "python",
   "pygments_lexer": "ipython3",
   "version": "3.12.3"
  }
 },
 "nbformat": 4,
 "nbformat_minor": 2
}
