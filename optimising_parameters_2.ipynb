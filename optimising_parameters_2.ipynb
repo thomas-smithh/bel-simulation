{
 "cells": [
  {
   "cell_type": "code",
   "execution_count": 1,
   "metadata": {},
   "outputs": [],
   "source": [
    "import pandas as pd\n",
    "import numpy as np\n",
    "import matplotlib.pyplot as plt\n",
    "from tqdm import tqdm\n",
    "from scipy.stats import skewnorm\n",
    "from scipy.optimize import minimize_scalar\n",
    "from scipy.stats import skewnorm\n",
    "from bayes_opt import BayesianOptimization\n",
    "from simulation import Simulation\n",
    "from bayes_opt.logger import JSONLogger\n",
    "from bayes_opt.event import Events\n",
    "from hyperopt import fmin, tpe, Trials, space_eval, STATUS_OK, hp\n",
    "from hyperopt.fmin import generate_trials_to_calculate\n",
    "import random\n",
    "import os"
   ]
  },
  {
   "cell_type": "code",
   "execution_count": 2,
   "metadata": {},
   "outputs": [],
   "source": [
    "def scaled_gaussian(x, mu, sigma):\n",
    "    max_val = 1 / (sigma * np.sqrt(2 * np.pi))\n",
    "    pdf_val = (1 / (sigma * np.sqrt(2 * np.pi))) * np.exp(-0.5 * ((x - mu) / sigma) ** 2)\n",
    "    y = pdf_val / max_val\n",
    "    return y\n",
    "\n",
    "class ScaledSkewNormal:\n",
    "\n",
    "    def __init__(self, a, mu, sigma):\n",
    "        neg_pdf = lambda x: -skewnorm.pdf(x, a, mu, sigma)\n",
    "        self.result = minimize_scalar(neg_pdf, bounds=(mu - 3*sigma, mu + 3*sigma), method='bounded')\n",
    "        self.pdf_max_value = skewnorm.pdf(self.result.x, a, mu, sigma)\n",
    "        self.a = a\n",
    "        self.mu = mu\n",
    "        self.sigma = sigma\n",
    "\n",
    "    def get_value(self, x):\n",
    "        pdf_val = skewnorm.pdf(x, self.a, self.mu, self.sigma)\n",
    "        return pdf_val / self.pdf_max_value\n",
    "\n",
    "def lumen_vol_dist(x):\n",
    "    if 0 <= x <= 0.5:\n",
    "        return 1\n",
    "    elif 0.5 < x <= 1:\n",
    "        return -2 * x + 2\n",
    "    else:\n",
    "        return 1e-30\n",
    "\n",
    "def time_dist(x):\n",
    "    return (x / 15) + 1e-30\n",
    "\n",
    "def lumen_com_dist(x):\n",
    "    if np.isnan(x):\n",
    "        return 1e-30\n",
    "    else:\n",
    "        return 1 / np.exp(0.5*x)"
   ]
  },
  {
   "cell_type": "code",
   "execution_count": 3,
   "metadata": {},
   "outputs": [],
   "source": [
    "def derive_target(\n",
    "    mean_separation: float,\n",
    "    lumen_com: float,\n",
    "    sphericity: float,\n",
    "    n_cells: float,\n",
    "    lumen_vol: float,\n",
    "    hull_vol: float,\n",
    "    max_time: float\n",
    ") -> float:\n",
    "    \"\"\"\n",
    "    Derive the value to be maximised from the results of the simulation.\n",
    "    \n",
    "    Inputs:\n",
    "        results: The results of the simulation.\n",
    "    \n",
    "    Returns:\n",
    "        The value to be maximised.\n",
    "    \"\"\"\n",
    "\n",
    "    skew_normal_n_cells = ScaledSkewNormal(5, -80, 500)\n",
    "    skew_normal_sphericity = ScaledSkewNormal(-5, 1.05, 0.3)\n",
    "    \n",
    "    # lumen_com_optimisation_values = lumen_com_dist(lumen_com)\n",
    "    mean_separation_optimisation_value = scaled_gaussian(mean_separation, mu=-0.2, sigma=0.3)\n",
    "    sphericity_optimisation_value = skew_normal_sphericity.get_value(sphericity)\n",
    "    n_cells_optimisation_value = skew_normal_n_cells.get_value(n_cells)\n",
    "    # lumen_vol_optimisation_value = lumen_vol_dist(lumen_vol/hull_vol)\n",
    "    time_optimisation_value = time_dist(max_time)\n",
    "\n",
    "    target_value = (\n",
    "        mean_separation_optimisation_value *\n",
    "        sphericity_optimisation_value *\n",
    "        n_cells_optimisation_value *\n",
    "        # lumen_vol_optimisation_value *\n",
    "        time_optimisation_value \n",
    "        # lumen_com_optimisation_values\n",
    "    )\n",
    "\n",
    "    return target_value\n",
    "\n",
    "def get_next_run_number(path):\n",
    "    files = os.listdir(path)\n",
    "    run_numbers = [int(file.split('_Run')[1].split('.')[0]) for file in files if 'parquet' in file]\n",
    "    if len(run_numbers) == 0:\n",
    "        return 0\n",
    "    else:\n",
    "        return max(run_numbers) + 1\n",
    "\n",
    "def target_function(\n",
    "    params: dict\n",
    ") -> float:\n",
    "    \"\"\"\n",
    "    \"\"\"\n",
    "\n",
    "    radius_scaling = random.uniform(0.5, 1.8)\n",
    "    volume_scaling = random.uniform(0.01, 0.5)\n",
    "    simulation = Simulation(N_bodies=50)\n",
    "\n",
    "    run_number = get_next_run_number(\"F:\\\\Bel_Simulation\\\\Optimisation Output with Initial Parameter Space Probing\")\n",
    "\n",
    "    try:\n",
    "        simulation.execute(\n",
    "            alpha=params['alpha'],\n",
    "            beta=params['beta'],\n",
    "            A_eq_star_scaling=params['A_eq_star_scaling'],\n",
    "            P_star=params['P_star'],\n",
    "            radius_scaling=radius_scaling,\n",
    "            volume_scaling=volume_scaling,\n",
    "            max_reset_count=0,\n",
    "            run_number=run_number,\n",
    "            # write_results=True,\n",
    "            # write_path=\"F:\\\\Bel_Simulation\\\\Optimisation Output with Initial Parameter Space Probing 2\"\n",
    "        )\n",
    "        \n",
    "        results = simulation.results.iloc[-1]\n",
    "        target = -derive_target(\n",
    "            results['mean_separation'],\n",
    "            results['lumen_distance_from_com'],\n",
    "            results['sphericity'],\n",
    "            results['final_N_bodies'],\n",
    "            results['lumen_volume'],\n",
    "            results['hull_volume'],\n",
    "            results['t']\n",
    "        )\n",
    "    except:\n",
    "        return 1\n",
    "\n",
    "    return {'loss': target, 'status': STATUS_OK}"
   ]
  },
  {
   "cell_type": "code",
   "execution_count": 4,
   "metadata": {},
   "outputs": [],
   "source": [
    "search_space = {\n",
    "    'alpha': hp.uniform('alpha', 0, 3),\n",
    "    'beta': hp.uniform('beta', 0, 1000),\n",
    "    'A_eq_star_scaling': hp.uniform('A_eq_star_scaling', 0, 1),\n",
    "    'P_star': hp.uniform('P_star', 0, 1000),\n",
    "}"
   ]
  },
  {
   "cell_type": "code",
   "execution_count": 5,
   "metadata": {},
   "outputs": [
    {
     "ename": "",
     "evalue": "",
     "output_type": "error",
     "traceback": [
      "\u001b[1;31mThe Kernel crashed while executing code in the current cell or a previous cell. \n",
      "\u001b[1;31mPlease review the code in the cell(s) to identify a possible cause of the failure. \n",
      "\u001b[1;31mClick <a href='https://aka.ms/vscodeJupyterKernelCrash'>here</a> for more info. \n",
      "\u001b[1;31mView Jupyter <a href='command:jupyter.viewOutput'>log</a> for further details."
     ]
    }
   ],
   "source": [
    "beta = np.random.uniform(0.008351, 0.999717, 100)\n",
    "alpha =  np.random.uniform(0.000147, 0.004797, 100)\n",
    "A_eq_star_scaling = np.random.uniform(0.078842, 0.387942, 100)\n",
    "P_star = np.random.uniform(460.438517, 904.892311, 100) \n",
    "\n",
    "initial_probing = []\n",
    "\n",
    "for alpha, beta, A_eq_star_scaling, P_star in zip(alpha, beta, A_eq_star_scaling, P_star):\n",
    "    initial_probing.append(\n",
    "        {\n",
    "            'alpha': alpha,\n",
    "            'beta': beta,\n",
    "            'A_eq_star_scaling': A_eq_star_scaling,\n",
    "            'P_star': P_star,\n",
    "        }\n",
    "    )\n",
    "\n",
    "trials = generate_trials_to_calculate(initial_probing)"
   ]
  },
  {
   "cell_type": "code",
   "execution_count": 5,
   "metadata": {},
   "outputs": [
    {
     "name": "stdout",
     "output_type": "stream",
     "text": [
      "  0%|          | 6096/100000000 [53:00<7486:14:19,  3.71trial/s, best loss: 1.0]   "
     ]
    },
    {
     "ename": "",
     "evalue": "",
     "output_type": "error",
     "traceback": [
      "\u001b[1;31mThe Kernel crashed while executing code in the current cell or a previous cell. \n",
      "\u001b[1;31mPlease review the code in the cell(s) to identify a possible cause of the failure. \n",
      "\u001b[1;31mClick <a href='https://aka.ms/vscodeJupyterKernelCrash'>here</a> for more info. \n",
      "\u001b[1;31mView Jupyter <a href='command:jupyter.viewOutput'>log</a> for further details."
     ]
    }
   ],
   "source": [
    "algo = tpe.suggest\n",
    "max_evals = 100_000_000\n",
    "\n",
    "best = fmin(\n",
    "    fn=target_function,\n",
    "    space=search_space,\n",
    "    algo=algo,\n",
    "    max_evals=max_evals,\n",
    "    trials=Trials(),\n",
    "    verbose=True,\n",
    "    trials_save_file='trials_14_Optimising_without_initial_probing_in_valid_range.pkl'\n",
    ")"
   ]
  },
  {
   "cell_type": "code",
   "execution_count": null,
   "metadata": {},
   "outputs": [],
   "source": [
    "import numpy as np"
   ]
  },
  {
   "cell_type": "code",
   "execution_count": null,
   "metadata": {},
   "outputs": [],
   "source": []
  }
 ],
 "metadata": {
  "kernelspec": {
   "display_name": "bel_simulation",
   "language": "python",
   "name": "python3"
  },
  "language_info": {
   "codemirror_mode": {
    "name": "ipython",
    "version": 3
   },
   "file_extension": ".py",
   "mimetype": "text/x-python",
   "name": "python",
   "nbconvert_exporter": "python",
   "pygments_lexer": "ipython3",
   "version": "3.12.3"
  }
 },
 "nbformat": 4,
 "nbformat_minor": 2
}
