{
 "cells": [
  {
   "cell_type": "code",
   "execution_count": null,
   "metadata": {},
   "outputs": [],
   "source": [
    "import simulation as sim\n",
    "from importlib import reload\n",
    "import numpy as np\n",
    "import pickle\n",
    "import random\n",
    "from joblib import Parallel, delayed\n",
    "from tqdm import tqdm\n",
    "import pandas as pd\n",
    "import os\n",
    "from scipy import stats\n",
    "from scipy.stats import skewnorm\n",
    "from scipy.optimize import minimize_scalar\n",
    "from scipy.stats import skewnorm"
   ]
  },
  {
   "cell_type": "code",
   "execution_count": 2,
   "metadata": {},
   "outputs": [],
   "source": [
    "# trials = pd.read_pickle('trials_13_Optimising_with_initial_probing.pkl')\n",
    "# runs = pd.DataFrame(trials.vals)\n",
    "# runs['loss'] = trials.losses()\n",
    "# runs.sort_values('loss', inplace=True)"
   ]
  },
  {
   "cell_type": "code",
   "execution_count": 5,
   "metadata": {},
   "outputs": [
    {
     "data": {
      "text/html": [
       "<div>\n",
       "<style scoped>\n",
       "    .dataframe tbody tr th:only-of-type {\n",
       "        vertical-align: middle;\n",
       "    }\n",
       "\n",
       "    .dataframe tbody tr th {\n",
       "        vertical-align: top;\n",
       "    }\n",
       "\n",
       "    .dataframe thead th {\n",
       "        text-align: right;\n",
       "    }\n",
       "</style>\n",
       "<table border=\"1\" class=\"dataframe\">\n",
       "  <thead>\n",
       "    <tr style=\"text-align: right;\">\n",
       "      <th></th>\n",
       "      <th>A_eq_star_scaling</th>\n",
       "      <th>P_star</th>\n",
       "      <th>alpha</th>\n",
       "      <th>beta</th>\n",
       "    </tr>\n",
       "  </thead>\n",
       "  <tbody>\n",
       "    <tr>\n",
       "      <th>min</th>\n",
       "      <td>0.139960</td>\n",
       "      <td>674.664022</td>\n",
       "      <td>0.003897</td>\n",
       "      <td>0.059233</td>\n",
       "    </tr>\n",
       "    <tr>\n",
       "      <th>max</th>\n",
       "      <td>0.230439</td>\n",
       "      <td>805.191377</td>\n",
       "      <td>0.003943</td>\n",
       "      <td>0.668773</td>\n",
       "    </tr>\n",
       "  </tbody>\n",
       "</table>\n",
       "</div>"
      ],
      "text/plain": [
       "     A_eq_star_scaling      P_star     alpha      beta\n",
       "min           0.139960  674.664022  0.003897  0.059233\n",
       "max           0.230439  805.191377  0.003943  0.668773"
      ]
     },
     "execution_count": 5,
     "metadata": {},
     "output_type": "execute_result"
    }
   ],
   "source": [
    "runs[runs.loss < -0.5][['A_eq_star_scaling', 'P_star', 'alpha', 'beta']].describe().loc[['min', 'max']]"
   ]
  },
  {
   "cell_type": "code",
   "execution_count": 13,
   "metadata": {},
   "outputs": [],
   "source": [
    "def instantiate_and_run_simulation(\n",
    "    run_number\n",
    "):\n",
    "    simulation = sim.Simulation(N_bodies=50, timestep_reset=1000)\n",
    "\n",
    "    # beta = random.uniform(100, 150)\n",
    "    # alpha =  random.uniform(500, 550)\n",
    "    # A_eq_star_scaling = random.uniform(500, 500)\n",
    "    # P_star = random.uniform(460.438517, 904.892311) \n",
    "    # radius_scaling = random.uniform(0.5, 1.2)\n",
    "    # volume_scaling = 0.8\n",
    "\n",
    "    beta = 45.687782\n",
    "    alpha =  0.329671\n",
    "    A_eq_star_scaling = 0.448194\n",
    "    P_star = 0.886839 \n",
    "    volume_scaling = 0.3\n",
    "    radius_scaling = 0.7\n",
    "\n",
    "    simulation.execute(\n",
    "        beta=beta,\n",
    "        alpha=alpha,\n",
    "        A_eq_star_scaling=A_eq_star_scaling,\n",
    "        P_star=P_star,\n",
    "        radius_scaling=radius_scaling,\n",
    "        volume_scaling = volume_scaling,\n",
    "        # write_results=True,\n",
    "        # max_reset_count=20,\n",
    "        run_number=run_number,\n",
    "        # write_path=\"f:\\\\Bel_Simulation\\\\outputs_13\"\n",
    "        )\n",
    "\n",
    "    return simulation"
   ]
  },
  {
   "cell_type": "code",
   "execution_count": 14,
   "metadata": {},
   "outputs": [],
   "source": [
    "simulation = instantiate_and_run_simulation(0)"
   ]
  },
  {
   "cell_type": "code",
   "execution_count": 12,
   "metadata": {},
   "outputs": [
    {
     "data": {
      "text/plain": [
       "array([[ 3.91454033e-001,  8.36636678e+161, -2.48235832e-001],\n",
       "       [-1.61226969e+000,  1.61686190e+126,  1.69782706e+000],\n",
       "       [ 1.71704832e-002,  2.55801142e+001, -2.96398945e+000],\n",
       "       [ 3.10043892e+000,  1.30377827e+046,  3.46689165e+000],\n",
       "       [-4.83930216e+000,  3.56484732e+022, -1.27301830e+000],\n",
       "       [ 5.06223573e+000,  9.95832623e+000, -2.56658369e+000],\n",
       "       [-1.69598090e+000,  8.28527991e+000,  5.57782454e+000],\n",
       "       [-2.73436655e+000,  8.08094245e+000, -5.59711968e+000],\n",
       "       [ 5.47358551e+000,  6.79100472e+000,  1.62778086e+000],\n",
       "       [-5.89571670e+000,  7.45848116e+000,  2.98056334e+000],\n",
       "       [ 2.44583414e+000,  7.11560453e+000, -6.49702181e+000],\n",
       "       [ 2.18702987e+000,  5.96119479e+000,  6.16605888e+000],\n",
       "       [-5.97680407e+000,  5.70249120e+000, -3.21411168e+000],\n",
       "       [ 6.79870489e+000,  5.45189459e+000, -1.69719242e+000],\n",
       "       [-3.99429177e+000,  5.20549969e+000,  6.00146900e+000],\n",
       "       [-1.12164676e+000,  4.96131402e+000, -7.30843125e+000],\n",
       "       [ 6.46045399e+000,  5.65373654e+000,  5.37784113e+000],\n",
       "       [-8.59443266e+000,  5.30371051e+000,  4.06630265e-001],\n",
       "       [ 6.19237274e+000,  4.96776463e+000, -6.23205539e+000],\n",
       "       [-3.66532926e-001,  4.64052662e+000,  8.94404573e+000],\n",
       "       [-5.86649778e+000,  4.31908931e+000, -6.96120578e+000],\n",
       "       [ 9.16511556e+000,  4.00171853e+000,  1.19180323e+000],\n",
       "       [-7.66861245e+000,  3.68730625e+000,  5.38163072e+000],\n",
       "       [ 2.04763991e+000,  3.37510697e+000, -9.25923354e+000],\n",
       "       [ 4.79307606e+000,  3.06459806e+000,  8.30167341e+000],\n",
       "       [-9.22876919e+000,  2.75540058e+000, -2.91481030e+000],\n",
       "       [ 8.84935080e+000,  2.44723158e+000, -4.11596014e+000],\n",
       "       [-3.77542530e+000,  2.13987421e+000,  9.07721874e+000],\n",
       "       [-3.36549140e+000,  1.83315812e+000, -9.30232542e+000],\n",
       "       [ 8.80944338e+000,  1.52694622e+000,  4.61265211e+000],\n",
       "       [-9.65299174e+000,  1.22112541e+000,  2.55716789e+000],\n",
       "       [ 5.41064811e+000,  9.15599913e-001, -8.43175725e+000],\n",
       "       [ 1.70682617e+000,  6.10286297e-001,  1.81278888e+149],\n",
       "       [-7.95195497e+000,  3.05109563e-001, -6.15458338e+000],\n",
       "       [ 9.91757834e+076,  4.64098093e-015, -8.30611800e-001],\n",
       "       [-6.83070071e+000, -3.05109563e-001,  7.37929619e+000],\n",
       "       [ 5.50906490e-002, -6.10286297e-001, -1.00414604e+001],\n",
       "       [ 6.72446304e+000, -9.15599913e-001,  7.42638810e+000],\n",
       "       [-9.94220680e+000, -1.22112541e+000, -9.33745747e-001],\n",
       "       [ 7.93024816e+000, -1.52694622e+000, -5.99950133e+000],\n",
       "       [-1.78875647e+000, -1.83315812e+000,  1.20768486e+104],\n",
       "       [-5.21775608e+000, -2.13987421e+000, -8.33215207e+000],\n",
       "       [ 6.23328659e+051, -2.44723158e+000,  2.60353771e+000],\n",
       "       [-8.62326454e+000, -2.75540058e+000,  4.39381481e+000],\n",
       "       [ 3.36155112e+000, -3.06459806e+000, -8.97726760e+000],\n",
       "       [ 3.54348081e+000, -3.37510697e+000,  8.79602061e+000],\n",
       "       [-8.44969409e+000, -3.68730625e+000, -4.04626197e+000],\n",
       "       [ 8.84402168e+000, -4.00171853e+000, -2.68382293e+000],\n",
       "       [-4.64093371e+000, -4.31908931e+000,  7.83172500e+000],\n",
       "       [-1.83342471e+000, -4.64052662e+000, -8.76178374e+000],\n",
       "       [ 7.13353271e+000, -4.96776463e+000,  5.12803137e+000],\n",
       "       [-8.54417394e+000, -5.30371051e+000,  1.01326826e+000],\n",
       "       [ 5.48736048e+000, -5.65373654e+000, -6.36769313e+000],\n",
       "       [ 9.63677118e-002, -4.96131402e+000,  7.39337352e+000],\n",
       "       [-4.92747358e+000, -5.20549969e+000, -5.26231897e+000],\n",
       "       [ 6.98531223e+000, -5.45189459e+000,  5.55214781e-001],\n",
       "       [-5.36638173e+000, -5.70249120e+000,  4.15387144e+000],\n",
       "       [ 1.14248605e+000, -5.96119479e+000, -6.44190246e+000],\n",
       "       [ 3.48167893e+000, -7.11560453e+000,  6.00593946e+000],\n",
       "       [-6.30583504e+000, -7.45848116e+000, -1.96968972e+000],\n",
       "       [ 5.13108074e+000, -6.79100472e+000, -2.50635578e+000],\n",
       "       [-1.77598859e+000, -8.08094245e+000,  5.97079338e+000],\n",
       "       [-2.59078022e+000, -8.28527991e+000, -5.22267514e+000],\n",
       "       [ 5.41559062e+000, -9.95832623e+000,  1.69851719e+000],\n",
       "       [-4.56382719e+000, -9.23103547e+000,  2.05204835e+000],\n",
       "       [ 2.48763382e+000, -1.01419162e+001, -3.92985205e+000],\n",
       "       [ 5.04709347e-001, -7.92807887e+000,  2.92075277e+000],\n",
       "       [-1.86969325e+000, -7.24792962e+000, -1.40935355e+000],\n",
       "       [ 4.26968222e-001, -7.60516014e+000,  1.80431221e-001],\n",
       "       [-9.91757834e+076, -8.36636678e+161, -1.81278888e+149]])"
      ]
     },
     "execution_count": 12,
     "metadata": {},
     "output_type": "execute_result"
    }
   ],
   "source": [
    "simulation.positions"
   ]
  },
  {
   "cell_type": "code",
   "execution_count": 5,
   "metadata": {},
   "outputs": [
    {
     "data": {
      "text/html": [
       "<div>\n",
       "<style scoped>\n",
       "    .dataframe tbody tr th:only-of-type {\n",
       "        vertical-align: middle;\n",
       "    }\n",
       "\n",
       "    .dataframe tbody tr th {\n",
       "        vertical-align: top;\n",
       "    }\n",
       "\n",
       "    .dataframe thead th {\n",
       "        text-align: right;\n",
       "    }\n",
       "</style>\n",
       "<table border=\"1\" class=\"dataframe\">\n",
       "  <thead>\n",
       "    <tr style=\"text-align: right;\">\n",
       "      <th></th>\n",
       "      <th>cluster_vol</th>\n",
       "      <th>sphericity</th>\n",
       "      <th>mean_separation</th>\n",
       "      <th>t</th>\n",
       "      <th>lumen_volume</th>\n",
       "      <th>run_no</th>\n",
       "      <th>r_min</th>\n",
       "      <th>beta</th>\n",
       "      <th>alpha</th>\n",
       "      <th>a_eq_star_scaling</th>\n",
       "      <th>p_star</th>\n",
       "      <th>mean_lifetime</th>\n",
       "      <th>lumen_volume_scaling</th>\n",
       "      <th>lumen_radius_scaling</th>\n",
       "      <th>end_reason</th>\n",
       "      <th>final_N_bodies</th>\n",
       "      <th>hull_volume</th>\n",
       "    </tr>\n",
       "  </thead>\n",
       "  <tbody>\n",
       "    <tr>\n",
       "      <th>0</th>\n",
       "      <td>65.064885</td>\n",
       "      <td>0.983715</td>\n",
       "      <td>-0.039064</td>\n",
       "      <td>0.0</td>\n",
       "      <td>6.340883</td>\n",
       "      <td>0</td>\n",
       "      <td>1</td>\n",
       "      <td>106.992383</td>\n",
       "      <td>536.389191</td>\n",
       "      <td>500.0</td>\n",
       "      <td>688.827562</td>\n",
       "      <td>5</td>\n",
       "      <td>0.8</td>\n",
       "      <td>0.890903</td>\n",
       "      <td>unknown_uncaught</td>\n",
       "      <td>50</td>\n",
       "      <td>65.064885</td>\n",
       "    </tr>\n",
       "  </tbody>\n",
       "</table>\n",
       "</div>"
      ],
      "text/plain": [
       "   cluster_vol  sphericity  mean_separation    t  lumen_volume  run_no  r_min  \\\n",
       "0    65.064885    0.983715        -0.039064  0.0      6.340883       0      1   \n",
       "\n",
       "         beta       alpha  a_eq_star_scaling      p_star  mean_lifetime  \\\n",
       "0  106.992383  536.389191              500.0  688.827562              5   \n",
       "\n",
       "   lumen_volume_scaling  lumen_radius_scaling        end_reason  \\\n",
       "0                   0.8              0.890903  unknown_uncaught   \n",
       "\n",
       "   final_N_bodies  hull_volume  \n",
       "0              50    65.064885  "
      ]
     },
     "execution_count": 5,
     "metadata": {},
     "output_type": "execute_result"
    }
   ],
   "source": [
    "simulation.results"
   ]
  },
  {
   "cell_type": "code",
   "execution_count": 8,
   "metadata": {},
   "outputs": [
    {
     "data": {
      "text/html": [
       "<div>\n",
       "<style scoped>\n",
       "    .dataframe tbody tr th:only-of-type {\n",
       "        vertical-align: middle;\n",
       "    }\n",
       "\n",
       "    .dataframe tbody tr th {\n",
       "        vertical-align: top;\n",
       "    }\n",
       "\n",
       "    .dataframe thead th {\n",
       "        text-align: right;\n",
       "    }\n",
       "</style>\n",
       "<table border=\"1\" class=\"dataframe\">\n",
       "  <thead>\n",
       "    <tr style=\"text-align: right;\">\n",
       "      <th></th>\n",
       "      <th>cluster_vol</th>\n",
       "      <th>sphericity</th>\n",
       "      <th>mean_separation</th>\n",
       "      <th>lumen_distance_from_com</th>\n",
       "      <th>t</th>\n",
       "      <th>lumen_volume</th>\n",
       "      <th>run_no</th>\n",
       "      <th>r_min</th>\n",
       "      <th>beta</th>\n",
       "      <th>alpha</th>\n",
       "      <th>a_eq_star_scaling</th>\n",
       "      <th>p_star</th>\n",
       "      <th>mean_lifetime</th>\n",
       "      <th>lumen_volume_scaling</th>\n",
       "      <th>lumen_radius_scaling</th>\n",
       "      <th>end_reason</th>\n",
       "      <th>final_N_bodies</th>\n",
       "      <th>reset_count</th>\n",
       "      <th>hull_volume</th>\n",
       "    </tr>\n",
       "  </thead>\n",
       "  <tbody>\n",
       "    <tr>\n",
       "      <th>0</th>\n",
       "      <td>29.615332</td>\n",
       "      <td>0.964811</td>\n",
       "      <td>0.259214</td>\n",
       "      <td>NaN</td>\n",
       "      <td>0.00000</td>\n",
       "      <td>5.128954</td>\n",
       "      <td>0</td>\n",
       "      <td>1</td>\n",
       "      <td>148.729013</td>\n",
       "      <td>530.127447</td>\n",
       "      <td>500.0</td>\n",
       "      <td>578.400044</td>\n",
       "      <td>5</td>\n",
       "      <td>0.8</td>\n",
       "      <td>0.604576</td>\n",
       "      <td>unknown_uncaught</td>\n",
       "      <td>50</td>\n",
       "      <td>0</td>\n",
       "      <td>1176.370967</td>\n",
       "    </tr>\n",
       "    <tr>\n",
       "      <th>1</th>\n",
       "      <td>1176.370967</td>\n",
       "      <td>0.964811</td>\n",
       "      <td>0.259214</td>\n",
       "      <td>NaN</td>\n",
       "      <td>0.00006</td>\n",
       "      <td>5.128954</td>\n",
       "      <td>0</td>\n",
       "      <td>1</td>\n",
       "      <td>148.729013</td>\n",
       "      <td>530.127447</td>\n",
       "      <td>500.0</td>\n",
       "      <td>578.400044</td>\n",
       "      <td>5</td>\n",
       "      <td>0.8</td>\n",
       "      <td>0.604576</td>\n",
       "      <td>unknown_uncaught</td>\n",
       "      <td>50</td>\n",
       "      <td>0</td>\n",
       "      <td>1176.370967</td>\n",
       "    </tr>\n",
       "  </tbody>\n",
       "</table>\n",
       "</div>"
      ],
      "text/plain": [
       "   cluster_vol  sphericity  mean_separation  lumen_distance_from_com        t  \\\n",
       "0    29.615332    0.964811         0.259214                      NaN  0.00000   \n",
       "1  1176.370967    0.964811         0.259214                      NaN  0.00006   \n",
       "\n",
       "   lumen_volume  run_no  r_min        beta       alpha  a_eq_star_scaling  \\\n",
       "0      5.128954       0      1  148.729013  530.127447              500.0   \n",
       "1      5.128954       0      1  148.729013  530.127447              500.0   \n",
       "\n",
       "       p_star  mean_lifetime  lumen_volume_scaling  lumen_radius_scaling  \\\n",
       "0  578.400044              5                   0.8              0.604576   \n",
       "1  578.400044              5                   0.8              0.604576   \n",
       "\n",
       "         end_reason  final_N_bodies  reset_count  hull_volume  \n",
       "0  unknown_uncaught              50            0  1176.370967  \n",
       "1  unknown_uncaught              50            0  1176.370967  "
      ]
     },
     "execution_count": 8,
     "metadata": {},
     "output_type": "execute_result"
    }
   ],
   "source": [
    "np.linalg.norm(np.mean(simulation.positions, axis=0)-self.positions[-1]) "
   ]
  },
  {
   "cell_type": "code",
   "execution_count": 7,
   "metadata": {},
   "outputs": [],
   "source": [
    "def scaled_gaussian(x, mu, sigma):\n",
    "    max_val = 1 / (sigma * np.sqrt(2 * np.pi))\n",
    "    pdf_val = (1 / (sigma * np.sqrt(2 * np.pi))) * np.exp(-0.5 * ((x - mu) / sigma) ** 2)\n",
    "    y = pdf_val / max_val\n",
    "    return y\n",
    "\n",
    "class ScaledSkewNormal:\n",
    "\n",
    "    def __init__(self, a, mu, sigma):\n",
    "        neg_pdf = lambda x: -skewnorm.pdf(x, a, mu, sigma)\n",
    "        self.result = minimize_scalar(neg_pdf, bounds=(mu - 3*sigma, mu + 3*sigma), method='bounded')\n",
    "        self.pdf_max_value = skewnorm.pdf(self.result.x, a, mu, sigma)\n",
    "        self.a = a\n",
    "        self.mu = mu\n",
    "        self.sigma = sigma\n",
    "\n",
    "    def get_value(self, x):\n",
    "        pdf_val = skewnorm.pdf(x, self.a, self.mu, self.sigma)\n",
    "        return pdf_val / self.pdf_max_value\n",
    "\n",
    "def lumen_vol_dist(x):\n",
    "    if 0 <= x <= 0.5:\n",
    "        return 1\n",
    "    elif 0.5 < x <= 1:\n",
    "        return -2 * x + 2\n",
    "    else:\n",
    "        return 1e-30\n",
    "\n",
    "def time_dist(x):\n",
    "    return (x / 15) + 1e-30\n",
    "\n",
    "def lumen_com_dist(x):\n",
    "    return 1 / np.exp(0.5*x)\n",
    "\n",
    "def derive_target(\n",
    "    mean_separation: float,\n",
    "    lumen_com: float,\n",
    "    sphericity: float,\n",
    "    n_cells: float,\n",
    "    lumen_vol: float,\n",
    "    hull_vol: float,\n",
    "    max_time: float\n",
    ") -> float:\n",
    "    \"\"\"\n",
    "    Derive the value to be maximised from the results of the simulation.\n",
    "    \n",
    "    Inputs:\n",
    "        results: The results of the simulation.\n",
    "    \n",
    "    Returns:\n",
    "        The value to be maximised.\n",
    "    \"\"\"\n",
    "\n",
    "    #skew_normal_volume = ScaledSkewNormal(5, -50, 500)\n",
    "    skew_normal_n_cells = ScaledSkewNormal(5, -80, 500)\n",
    "    skew_normal_sphericity = ScaledSkewNormal(-5, 1.05, 0.3)\n",
    "    \n",
    "    lumen_com_optimisation_values = lumen_com_dist(lumen_com)\n",
    "    mean_separation_optimisation_value = scaled_gaussian(mean_separation, mu=-0.2, sigma=0.3)\n",
    "    #volume_optimisation_value = skew_normal_n_cells.get_value(volume)\n",
    "    sphericity_optimisation_value = skew_normal_sphericity.get_value(sphericity)\n",
    "    n_cells_optimisation_value = skew_normal_n_cells.get_value(n_cells)\n",
    "    lumen_vol_optimisation_value = lumen_vol_dist(lumen_vol/hull_vol)\n",
    "    time_optimisation_value = time_dist(max_time)\n",
    "\n",
    "    target_value = (\n",
    "        mean_separation_optimisation_value *\n",
    "        #volume_optimisation_value *\n",
    "        sphericity_optimisation_value *\n",
    "        n_cells_optimisation_value *\n",
    "        lumen_vol_optimisation_value *\n",
    "        time_optimisation_value *\n",
    "        lumen_com_optimisation_values\n",
    "    )\n",
    "\n",
    "    return target_value"
   ]
  },
  {
   "cell_type": "code",
   "execution_count": 10,
   "metadata": {},
   "outputs": [],
   "source": [
    "simulation = instantiate_and_run_simulation(1)"
   ]
  },
  {
   "cell_type": "code",
   "execution_count": 11,
   "metadata": {},
   "outputs": [],
   "source": [
    "results = simulation.results.iloc[-1]\n",
    "target = -derive_target(\n",
    "    results['mean_separation'],\n",
    "    results['lumen_distance_from_com'],\n",
    "    results['sphericity'],\n",
    "    results['final_N_bodies'],\n",
    "    results['lumen_volume'],\n",
    "    results['hull_volume'],\n",
    "    results['t']\n",
    ")"
   ]
  },
  {
   "cell_type": "code",
   "execution_count": 14,
   "metadata": {},
   "outputs": [
    {
     "data": {
      "text/plain": [
       "-0.6481651365106207"
      ]
     },
     "execution_count": 14,
     "metadata": {},
     "output_type": "execute_result"
    }
   ],
   "source": [
    "target"
   ]
  },
  {
   "cell_type": "code",
   "execution_count": 8,
   "metadata": {},
   "outputs": [
    {
     "name": "stderr",
     "output_type": "stream",
     "text": [
      "My Simulation:   0%|          | 3895/1000000 [73:27:14<20109:49:13, 72.68s/it] c:\\Users\\Tom\\anaconda3\\envs\\bel_simulation\\Lib\\site-packages\\joblib\\externals\\loky\\process_executor.py:752: UserWarning: A worker stopped while some jobs were given to the executor. This can be caused by a too short worker timeout or by a memory leak.\n",
      "  warnings.warn(\n",
      "My Simulation:   1%|          | 11725/1000000 [218:23:52<18408:17:10, 67.06s/it] \n"
     ]
    },
    {
     "ename": "KeyboardInterrupt",
     "evalue": "",
     "output_type": "error",
     "traceback": [
      "\u001b[1;31m---------------------------------------------------------------------------\u001b[0m",
      "\u001b[1;31mKeyboardInterrupt\u001b[0m                         Traceback (most recent call last)",
      "Cell \u001b[1;32mIn[8], line 2\u001b[0m\n\u001b[0;32m      1\u001b[0m \u001b[38;5;28;01mwith\u001b[39;00m sim\u001b[38;5;241m.\u001b[39mtqdm_joblib(tqdm(desc\u001b[38;5;241m=\u001b[39m\u001b[38;5;124m\"\u001b[39m\u001b[38;5;124mMy Simulation\u001b[39m\u001b[38;5;124m\"\u001b[39m, total\u001b[38;5;241m=\u001b[39m\u001b[38;5;241m1_000_000\u001b[39m)) \u001b[38;5;28;01mas\u001b[39;00m progress_bar:\n\u001b[1;32m----> 2\u001b[0m     \u001b[43mParallel\u001b[49m\u001b[43m(\u001b[49m\u001b[43mn_jobs\u001b[49m\u001b[38;5;241;43m=\u001b[39;49m\u001b[38;5;241;43m8\u001b[39;49m\u001b[43m)\u001b[49m\u001b[43m(\u001b[49m\u001b[43mdelayed\u001b[49m\u001b[43m(\u001b[49m\u001b[43minstantiate_and_run_simulation\u001b[49m\u001b[43m)\u001b[49m\u001b[43m(\u001b[49m\u001b[43mj\u001b[49m\u001b[43m)\u001b[49m\u001b[43m \u001b[49m\u001b[38;5;28;43;01mfor\u001b[39;49;00m\u001b[43m \u001b[49m\u001b[43mj\u001b[49m\u001b[43m \u001b[49m\u001b[38;5;129;43;01min\u001b[39;49;00m\u001b[43m \u001b[49m\u001b[38;5;28;43mrange\u001b[39;49m\u001b[43m(\u001b[49m\u001b[38;5;241;43m1_000_000\u001b[39;49m\u001b[43m)\u001b[49m\u001b[43m)\u001b[49m\n",
      "File \u001b[1;32mc:\\Users\\Tom\\anaconda3\\envs\\bel_simulation\\Lib\\site-packages\\joblib\\parallel.py:2007\u001b[0m, in \u001b[0;36mParallel.__call__\u001b[1;34m(self, iterable)\u001b[0m\n\u001b[0;32m   2001\u001b[0m \u001b[38;5;66;03m# The first item from the output is blank, but it makes the interpreter\u001b[39;00m\n\u001b[0;32m   2002\u001b[0m \u001b[38;5;66;03m# progress until it enters the Try/Except block of the generator and\u001b[39;00m\n\u001b[0;32m   2003\u001b[0m \u001b[38;5;66;03m# reach the first `yield` statement. This starts the aynchronous\u001b[39;00m\n\u001b[0;32m   2004\u001b[0m \u001b[38;5;66;03m# dispatch of the tasks to the workers.\u001b[39;00m\n\u001b[0;32m   2005\u001b[0m \u001b[38;5;28mnext\u001b[39m(output)\n\u001b[1;32m-> 2007\u001b[0m \u001b[38;5;28;01mreturn\u001b[39;00m output \u001b[38;5;28;01mif\u001b[39;00m \u001b[38;5;28mself\u001b[39m\u001b[38;5;241m.\u001b[39mreturn_generator \u001b[38;5;28;01melse\u001b[39;00m \u001b[38;5;28;43mlist\u001b[39;49m\u001b[43m(\u001b[49m\u001b[43moutput\u001b[49m\u001b[43m)\u001b[49m\n",
      "File \u001b[1;32mc:\\Users\\Tom\\anaconda3\\envs\\bel_simulation\\Lib\\site-packages\\joblib\\parallel.py:1650\u001b[0m, in \u001b[0;36mParallel._get_outputs\u001b[1;34m(self, iterator, pre_dispatch)\u001b[0m\n\u001b[0;32m   1647\u001b[0m     \u001b[38;5;28;01myield\u001b[39;00m\n\u001b[0;32m   1649\u001b[0m     \u001b[38;5;28;01mwith\u001b[39;00m \u001b[38;5;28mself\u001b[39m\u001b[38;5;241m.\u001b[39m_backend\u001b[38;5;241m.\u001b[39mretrieval_context():\n\u001b[1;32m-> 1650\u001b[0m         \u001b[38;5;28;01myield from\u001b[39;00m \u001b[38;5;28mself\u001b[39m\u001b[38;5;241m.\u001b[39m_retrieve()\n\u001b[0;32m   1652\u001b[0m \u001b[38;5;28;01mexcept\u001b[39;00m \u001b[38;5;167;01mGeneratorExit\u001b[39;00m:\n\u001b[0;32m   1653\u001b[0m     \u001b[38;5;66;03m# The generator has been garbage collected before being fully\u001b[39;00m\n\u001b[0;32m   1654\u001b[0m     \u001b[38;5;66;03m# consumed. This aborts the remaining tasks if possible and warn\u001b[39;00m\n\u001b[0;32m   1655\u001b[0m     \u001b[38;5;66;03m# the user if necessary.\u001b[39;00m\n\u001b[0;32m   1656\u001b[0m     \u001b[38;5;28mself\u001b[39m\u001b[38;5;241m.\u001b[39m_exception \u001b[38;5;241m=\u001b[39m \u001b[38;5;28;01mTrue\u001b[39;00m\n",
      "File \u001b[1;32mc:\\Users\\Tom\\anaconda3\\envs\\bel_simulation\\Lib\\site-packages\\joblib\\parallel.py:1762\u001b[0m, in \u001b[0;36mParallel._retrieve\u001b[1;34m(self)\u001b[0m\n\u001b[0;32m   1757\u001b[0m \u001b[38;5;66;03m# If the next job is not ready for retrieval yet, we just wait for\u001b[39;00m\n\u001b[0;32m   1758\u001b[0m \u001b[38;5;66;03m# async callbacks to progress.\u001b[39;00m\n\u001b[0;32m   1759\u001b[0m \u001b[38;5;28;01mif\u001b[39;00m ((\u001b[38;5;28mlen\u001b[39m(\u001b[38;5;28mself\u001b[39m\u001b[38;5;241m.\u001b[39m_jobs) \u001b[38;5;241m==\u001b[39m \u001b[38;5;241m0\u001b[39m) \u001b[38;5;129;01mor\u001b[39;00m\n\u001b[0;32m   1760\u001b[0m     (\u001b[38;5;28mself\u001b[39m\u001b[38;5;241m.\u001b[39m_jobs[\u001b[38;5;241m0\u001b[39m]\u001b[38;5;241m.\u001b[39mget_status(\n\u001b[0;32m   1761\u001b[0m         timeout\u001b[38;5;241m=\u001b[39m\u001b[38;5;28mself\u001b[39m\u001b[38;5;241m.\u001b[39mtimeout) \u001b[38;5;241m==\u001b[39m TASK_PENDING)):\n\u001b[1;32m-> 1762\u001b[0m     \u001b[43mtime\u001b[49m\u001b[38;5;241;43m.\u001b[39;49m\u001b[43msleep\u001b[49m\u001b[43m(\u001b[49m\u001b[38;5;241;43m0.01\u001b[39;49m\u001b[43m)\u001b[49m\n\u001b[0;32m   1763\u001b[0m     \u001b[38;5;28;01mcontinue\u001b[39;00m\n\u001b[0;32m   1765\u001b[0m \u001b[38;5;66;03m# We need to be careful: the job list can be filling up as\u001b[39;00m\n\u001b[0;32m   1766\u001b[0m \u001b[38;5;66;03m# we empty it and Python list are not thread-safe by\u001b[39;00m\n\u001b[0;32m   1767\u001b[0m \u001b[38;5;66;03m# default hence the use of the lock\u001b[39;00m\n",
      "\u001b[1;31mKeyboardInterrupt\u001b[0m: "
     ]
    }
   ],
   "source": [
    "with sim.tqdm_joblib(tqdm(desc=\"My Simulation\", total=1_000_000)) as progress_bar:\n",
    "    Parallel(n_jobs=8)(delayed(instantiate_and_run_simulation)(j) for j in range(1_000_000))"
   ]
  },
  {
   "cell_type": "code",
   "execution_count": null,
   "metadata": {},
   "outputs": [],
   "source": [
    "results = pd.concat([pd.read_parquet(f\"C:\\\\Users\\\\Tom\\\\Documents\\\\Bel PhD\\\\Bel_Simulation\\\\outputs\\\\{i}\") for i in os.listdir(\"C:\\\\Users\\\\Tom\\\\Documents\\\\Bel PhD\\\\Bel_Simulation\\\\outputs\") if i.endswith(\".parquet\")])"
   ]
  },
  {
   "cell_type": "code",
   "execution_count": 10,
   "metadata": {},
   "outputs": [],
   "source": [
    "simulation = sim.Simulation(N_bodies=50, timestep_reset=1000)"
   ]
  },
  {
   "cell_type": "code",
   "execution_count": 11,
   "metadata": {},
   "outputs": [
    {
     "data": {
      "text/plain": [
       "0.002725328356610611"
      ]
     },
     "execution_count": 11,
     "metadata": {},
     "output_type": "execute_result"
    }
   ],
   "source": [
    "np.linalg.norm(np.mean(simulation.positions, axis=0)-simulation.positions[-1])"
   ]
  },
  {
   "cell_type": "code",
   "execution_count": 18,
   "metadata": {},
   "outputs": [
    {
     "data": {
      "text/plain": [
       "0.002725328356610611"
      ]
     },
     "execution_count": 18,
     "metadata": {},
     "output_type": "execute_result"
    }
   ],
   "source": [
    "np.linalg.norm(np.mean(simulation.positions, axis=0)- simulation.positions[-1])"
   ]
  },
  {
   "cell_type": "code",
   "execution_count": null,
   "metadata": {},
   "outputs": [],
   "source": []
  }
 ],
 "metadata": {
  "kernelspec": {
   "display_name": "bel_simulation",
   "language": "python",
   "name": "python3"
  },
  "language_info": {
   "codemirror_mode": {
    "name": "ipython",
    "version": 3
   },
   "file_extension": ".py",
   "mimetype": "text/x-python",
   "name": "python",
   "nbconvert_exporter": "python",
   "pygments_lexer": "ipython3",
   "version": "3.10.13"
  }
 },
 "nbformat": 4,
 "nbformat_minor": 2
}
