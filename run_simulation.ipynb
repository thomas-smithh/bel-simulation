{
 "cells": [
  {
   "cell_type": "code",
   "execution_count": 279,
   "metadata": {},
   "outputs": [],
   "source": [
    "import simulation as sim\n",
    "from importlib import reload\n",
    "import numpy as np\n",
    "import pickle\n",
    "import random\n",
    "from joblib import Parallel, delayed\n",
    "from tqdm import tqdm"
   ]
  },
  {
   "cell_type": "code",
   "execution_count": 276,
   "metadata": {},
   "outputs": [],
   "source": [
    "beta_run_range = np.linspace(0.001,10,10)\n",
    "alpha_over_min_run_range = np.linspace(0.001,10,10)\n",
    "A_eq_run_range = np.linspace(0.01, 0.55, 10)\n",
    "P_star_run_range = np.linspace(0.1, 20, 10)\n",
    "volume_scaling_run_range = np.linspace(0.01, 0.5, 8)\n",
    "radius_scaling_run_range = np.linspace(0.6, 1.2, 10)\n",
    "parameters = [(b, a, A, p, V, r) for b in beta_run_range for a in alpha_over_min_run_range for A in A_eq_run_range for p in P_star_run_range for V in volume_scaling_run_range for r in radius_scaling_run_range]\n",
    "random.shuffle(parameters)"
   ]
  },
  {
   "cell_type": "code",
   "execution_count": 281,
   "metadata": {},
   "outputs": [],
   "source": [
    "def instantiate_and_run_simulation(\n",
    "    params,\n",
    "    run_number\n",
    "):\n",
    "    simulation = sim.Simulation(N_bodies=10)\n",
    "    simulation.execute(\n",
    "        beta=params[0],\n",
    "        alpha=params[1],\n",
    "        A_eq_star_scaling=params[2],\n",
    "        P_star=params[3],\n",
    "        volume_scaling=params[4],\n",
    "        radius_scaling=params[5],\n",
    "        write_results=True,\n",
    "        run_number=run_number\n",
    "    )\n"
   ]
  },
  {
   "cell_type": "code",
   "execution_count": 282,
   "metadata": {},
   "outputs": [
    {
     "name": "stderr",
     "output_type": "stream",
     "text": [
      "My Simulation:   0%|          | 0/20 [00:00<?, ?it/s]"
     ]
    }
   ],
   "source": [
    "with sim.tqdm_joblib(tqdm(desc=\"My Simulation\", total=len(parameters[:20]))) as progress_bar:\n",
    "    Parallel(n_jobs=-1)(delayed(instantiate_and_run_simulation)(params, j) for j, params in enumerate(parameters[:20]))"
   ]
  }
 ],
 "metadata": {
  "kernelspec": {
   "display_name": "bel_simulation",
   "language": "python",
   "name": "python3"
  },
  "language_info": {
   "codemirror_mode": {
    "name": "ipython",
    "version": 3
   },
   "file_extension": ".py",
   "mimetype": "text/x-python",
   "name": "python",
   "nbconvert_exporter": "python",
   "pygments_lexer": "ipython3",
   "version": "3.12.3"
  }
 },
 "nbformat": 4,
 "nbformat_minor": 2
}
