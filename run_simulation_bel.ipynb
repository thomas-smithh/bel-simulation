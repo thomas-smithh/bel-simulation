{
 "cells": [
  {
   "cell_type": "code",
   "execution_count": 19,
   "metadata": {},
   "outputs": [],
   "source": [
    "import simulation as sim\n",
    "from importlib import reload\n",
    "import numpy as np\n",
    "import pickle\n",
    "import random\n",
    "from joblib import Parallel, delayed\n",
    "from tqdm import tqdm"
   ]
  },
  {
   "cell_type": "code",
   "execution_count": 20,
   "metadata": {},
   "outputs": [],
   "source": [
    "def instantiate_and_run_simulation(\n",
    "    run_number\n",
    "):\n",
    "    simulation = sim.Simulation(N_bodies=10)\n",
    "\n",
    "    beta = random.uniform(0, 10)\n",
    "    alpha =  random.uniform(0, 1)\n",
    "    A_eq_star_scaling = random.uniform(0, 0.55)\n",
    "    P_star = random.uniform(0, 20) \n",
    "    volume_scaling = random.uniform(0, 0.5) \n",
    "    radius_scaling = random.uniform(0.6, 1.2)\n",
    "\n",
    "    simulation.execute(\n",
    "        beta=beta,\n",
    "        alpha=alpha,\n",
    "        A_eq_star_scaling=A_eq_star_scaling,\n",
    "        P_star=P_star,\n",
    "        volume_scaling=volume_scaling,\n",
    "        radius_scaling=radius_scaling,\n",
    "        write_results=True,\n",
    "        run_number=run_number,\n",
    "        write_path=\"C:\\\\Users\\\\isobe\\\\Documents\\\\outputs_2\"\n",
    "    )"
   ]
  },
  {
   "cell_type": "code",
   "execution_count": 21,
   "metadata": {},
   "outputs": [
    {
     "name": "stderr",
     "output_type": "stream",
     "text": [
      "My Simulation:   0%|          | 81/100000 [00:40<10:54:17,  2.55it/s]"
     ]
    }
   ],
   "source": [
    "with sim.tqdm_joblib(tqdm(desc=\"My Simulation\", total=100000)) as progress_bar:\n",
    "    Parallel(n_jobs=-1)(delayed(instantiate_and_run_simulation)(j) for j in range(100000))"
   ]
  },
  {
   "cell_type": "code",
   "execution_count": null,
   "metadata": {},
   "outputs": [],
   "source": []
  }
 ],
 "metadata": {
  "kernelspec": {
   "display_name": "simulation",
   "language": "python",
   "name": "python3"
  },
  "language_info": {
   "codemirror_mode": {
    "name": "ipython",
    "version": 3
   },
   "file_extension": ".py",
   "mimetype": "text/x-python",
   "name": "python",
   "nbconvert_exporter": "python",
   "pygments_lexer": "ipython3",
   "version": "3.10.9"
  }
 },
 "nbformat": 4,
 "nbformat_minor": 2
}
