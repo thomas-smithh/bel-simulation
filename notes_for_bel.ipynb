{
 "cells": [
  {
   "cell_type": "code",
   "execution_count": null,
   "metadata": {},
   "outputs": [],
   "source": [
    "import pandas as pd\n",
    "import numpy as np\n",
    "import os\n",
    "from tqdm import tqdm\n",
    "import seaborn as sns\n",
    "import matplotlib.pyplot as plt"
   ]
  },
  {
   "cell_type": "code",
   "execution_count": null,
   "metadata": {},
   "outputs": [],
   "source": [
    "def read_parquet_file(file_path):\n",
    "    data = pd.read_parquet(file_path)\n",
    "    max_t = data['t'].max()\n",
    "    if max_t < 20:\n",
    "        return None\n",
    "    else:\n",
    "        return pd.DataFrame(data[data['t'] == 20].iloc[-1]).T"
   ]
  },
  {
   "cell_type": "code",
   "execution_count": null,
   "metadata": {},
   "outputs": [],
   "source": [
    "files = [\"f:\\\\Bel_Simulation\\\\outputs_10\\\\\" + x for x in os.listdir(\"f:\\\\Bel_Simulation\\\\outputs_10\") if x.endswith(\".parquet\") and x != \"all.parquet\"]\n",
    "\n",
    "data = []\n",
    "for file in tqdm(files):\n",
    "    data.append(read_parquet_file(file))\n",
    "\n",
    "data = pd.concat(data).reset_index(drop=True)"
   ]
  },
  {
   "cell_type": "code",
   "execution_count": null,
   "metadata": {},
   "outputs": [],
   "source": [
    "data = pd.read_parquet(\"f:\\\\Bel_Simulation\\\\outputs_10\\\\all.parquet\")"
   ]
  },
  {
   "cell_type": "code",
   "execution_count": null,
   "metadata": {},
   "outputs": [],
   "source": [
    "data = data[data.mean_separation < 0]"
   ]
  },
  {
   "cell_type": "code",
   "execution_count": null,
   "metadata": {},
   "outputs": [],
   "source": [
    "data[['lumen_radius_scaling', 'final_N_bodies', 'cluster_vol', 'sphericity']].corr()"
   ]
  },
  {
   "cell_type": "code",
   "execution_count": null,
   "metadata": {},
   "outputs": [],
   "source": [
    "trials = pd.read_pickle('C:\\\\Users\\\\Tom\\\\Documents\\\\Bel PhD\\\\bel-simulation\\\\trials_5.pkl')\n",
    "results = pd.DataFrame(trials.vals)\n",
    "results['loss'] = trials.losses()"
   ]
  },
  {
   "cell_type": "code",
   "execution_count": null,
   "metadata": {},
   "outputs": [],
   "source": [
    "fig, ax = plt.subplots(figsize=(15, 10))\n",
    "results.drop('loss', axis=1).hist(ax=ax, bins=50)"
   ]
  }
 ],
 "metadata": {
  "kernelspec": {
   "display_name": "bel_simulation",
   "language": "python",
   "name": "python3"
  },
  "language_info": {
   "codemirror_mode": {
    "name": "ipython",
    "version": 3
   },
   "file_extension": ".py",
   "mimetype": "text/x-python",
   "name": "python",
   "nbconvert_exporter": "python",
   "pygments_lexer": "ipython3",
   "version": "3.12.3"
  }
 },
 "nbformat": 4,
 "nbformat_minor": 2
}
